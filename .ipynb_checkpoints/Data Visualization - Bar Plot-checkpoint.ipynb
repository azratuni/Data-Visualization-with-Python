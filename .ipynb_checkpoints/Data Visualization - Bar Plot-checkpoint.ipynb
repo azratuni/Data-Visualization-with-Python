{
 "cells": [
  {
   "cell_type": "markdown",
   "id": "45277b0b",
   "metadata": {},
   "source": [
    "# Data Visualization - Bar Plot\n",
    "Dataset \"Customer Personality Analysis\" from Kaggle\n",
    "\n",
    "Dataset link: https://www.kaggle.com/imakash3011/customer-personality-analysis"
   ]
  },
  {
   "cell_type": "code",
   "execution_count": null,
   "id": "fa42bc59",
   "metadata": {},
   "outputs": [],
   "source": [
    "import numpy as np\n",
    "import pandas as pd\n",
    "import matplotlib.pyplot as plt\n",
    "import seaborn as sns"
   ]
  },
  {
   "cell_type": "code",
   "execution_count": null,
   "id": "9347b9aa",
   "metadata": {},
   "outputs": [],
   "source": [
    "## read csv \n",
    "df = pd.read_csv(\"Dataset/marketing_campaign.csv\", sep ='\\t')\n",
    "display(df.head())\n",
    "display(df.tail())"
   ]
  },
  {
   "cell_type": "code",
   "execution_count": null,
   "id": "a29b40c7",
   "metadata": {},
   "outputs": [],
   "source": [
    "type(df)"
   ]
  },
  {
   "cell_type": "code",
   "execution_count": null,
   "id": "33d04c91",
   "metadata": {},
   "outputs": [],
   "source": [
    "df.shape"
   ]
  },
  {
   "cell_type": "code",
   "execution_count": null,
   "id": "8c6e3942",
   "metadata": {},
   "outputs": [],
   "source": [
    "df.info()"
   ]
  },
  {
   "cell_type": "code",
   "execution_count": null,
   "id": "35820d13",
   "metadata": {},
   "outputs": [],
   "source": [
    "df[\"Education\"].value_counts()"
   ]
  },
  {
   "cell_type": "code",
   "execution_count": null,
   "id": "70960ab1",
   "metadata": {},
   "outputs": [],
   "source": [
    "df[\"Year_Birth\"].value_counts()"
   ]
  },
  {
   "cell_type": "code",
   "execution_count": null,
   "id": "71690a67",
   "metadata": {},
   "outputs": [],
   "source": [
    "df[\"Year_Birth\"].unique()"
   ]
  },
  {
   "cell_type": "code",
   "execution_count": null,
   "id": "d8750458",
   "metadata": {},
   "outputs": [],
   "source": [
    "len(df[\"Year_Birth\"].unique())"
   ]
  },
  {
   "cell_type": "code",
   "execution_count": null,
   "id": "4d9646eb",
   "metadata": {},
   "outputs": [],
   "source": [
    "df[\"Income\"].value_counts()"
   ]
  },
  {
   "cell_type": "markdown",
   "id": "16e5892e",
   "metadata": {},
   "source": [
    "<b>To Find Percentage of unique values of a column</b>"
   ]
  },
  {
   "cell_type": "code",
   "execution_count": null,
   "id": "44d89749",
   "metadata": {},
   "outputs": [],
   "source": [
    "df[\"Education\"].value_counts(normalize=True)"
   ]
  },
  {
   "cell_type": "code",
   "execution_count": null,
   "id": "ed2f08a5",
   "metadata": {},
   "outputs": [],
   "source": [
    "Education = df[\"Education\"].value_counts(normalize=True)\n",
    "\n",
    "type(Education)"
   ]
  },
  {
   "cell_type": "code",
   "execution_count": null,
   "id": "78a367b0",
   "metadata": {},
   "outputs": [],
   "source": [
    "## Education now is a pandas.series\n",
    "## Must convert to dataframe\n",
    "\n",
    "Education = df[\"Education\"].value_counts(normalize=True)\n",
    "Education = pd.DataFrame(Education)\n",
    "\n",
    "display(Education)"
   ]
  },
  {
   "cell_type": "code",
   "execution_count": null,
   "id": "5bfa4bc2",
   "metadata": {},
   "outputs": [],
   "source": [
    "## Convert the index into a column\n",
    "\n",
    "Education = df[\"Education\"].value_counts(normalize=True)\n",
    "Education = pd.DataFrame(Education)\n",
    "print(Education.index)\n",
    "\n",
    "Education = Education.reset_index()\n",
    "display(Education)\n",
    "\n",
    "## Fixing column names\n",
    "\n",
    "Education = Education.rename(columns={\"index\":\"Education\", \"Education\":\"% of Customer\"})\n",
    "##display(Education)\n",
    "\n",
    "Education[\"% of Customer\"]= Education[\"% of Customer\"]*100\n",
    "display(Education)\n",
    "\n",
    "Education[\"% of Customer\"]= np.round(Education[\"% of Customer\"],2)\n",
    "display(Education)\n",
    "\n",
    "## to round off all columns\n",
    "## Education = Education.round(2)\n",
    "## display(Education)\n"
   ]
  },
  {
   "cell_type": "markdown",
   "id": "b722b8bf",
   "metadata": {},
   "source": [
    "\n",
    "\n",
    "<b>BarPlot for \"Education\" column</b>"
   ]
  },
  {
   "cell_type": "code",
   "execution_count": null,
   "id": "71895f1f",
   "metadata": {},
   "outputs": [],
   "source": [
    "sns.barplot(x='Education', y='% of Customer', data=Education)\n",
    "plt.title(\"Percent of Education level among the customers\")\n"
   ]
  },
  {
   "cell_type": "code",
   "execution_count": null,
   "id": "3b1bd534",
   "metadata": {},
   "outputs": [],
   "source": []
  }
 ],
 "metadata": {
  "kernelspec": {
   "display_name": "Python 3",
   "language": "python",
   "name": "python3"
  },
  "language_info": {
   "codemirror_mode": {
    "name": "ipython",
    "version": 3
   },
   "file_extension": ".py",
   "mimetype": "text/x-python",
   "name": "python",
   "nbconvert_exporter": "python",
   "pygments_lexer": "ipython3",
   "version": "3.8.8"
  }
 },
 "nbformat": 4,
 "nbformat_minor": 5
}
